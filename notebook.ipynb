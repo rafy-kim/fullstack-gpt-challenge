{
 "cells": [
  {
   "cell_type": "code",
   "execution_count": 3,
   "metadata": {},
   "outputs": [],
   "source": [
    "from langchain.chat_models import ChatOpenAI\n",
    "from langchain.prompts import ChatPromptTemplate\n",
    "from langchain.callbacks import StreamingStdOutCallbackHandler\n",
    "\n",
    "chat = ChatOpenAI(\n",
    "    temperature=0.1,\n",
    "    streaming=True,\n",
    "    callbacks=[\n",
    "        StreamingStdOutCallbackHandler(),\n",
    "    ],\n",
    ")\n",
    "\n",
    "strange_poet_prompt = ChatPromptTemplate.from_messages(\n",
    "    [\n",
    "        (\n",
    "            \"system\",\n",
    "            \"You are a poet transcending the boundaries of the world. Compose a poem about a specific programming language, revealing its inherent beauty through poetic expression. The poem should be original, metaphorically capturing the structure and logic of the language, while remaining accessible so that anyone can grasp its essence.\",\n",
    "        ),\n",
    "        (\"human\", \"I want a poem about {language}.\"),\n",
    "    ]\n",
    ")\n",
    "\n",
    "strange_poet_chain = strange_poet_prompt | chat"
   ]
  },
  {
   "cell_type": "code",
   "execution_count": 4,
   "metadata": {},
   "outputs": [
    {
     "name": "stdout",
     "output_type": "stream",
     "text": [
      "In the realm where code and art entwine,\n",
      "There dances Flutter, a language divine.\n",
      "With wings of widgets, it takes flight,\n",
      "Crafting interfaces, pure and bright.\n",
      "\n",
      "Like a painter with a palette vast,\n",
      "Flutter blends colors, shadows cast.\n",
      "Each line of code a brushstroke true,\n",
      "Creating beauty, both old and new.\n",
      "\n",
      "Its syntax flows like a gentle stream,\n",
      "Logic woven in a seamless dream.\n",
      "Widgets nestle in a structured array,\n",
      "Building UIs in a graceful ballet.\n",
      "\n",
      "Flutter, a symphony of design,\n",
      "Harmonizing elements in line.\n",
      "A language of elegance and grace,\n",
      "Creating worlds in a digital space.\n",
      "\n",
      "So let us marvel at Flutter's art,\n",
      "A language that sings from the heart.\n",
      "In the hands of creators, it soars high,\n",
      "A masterpiece painted in the sky.This poem beautifully captures the essence of Flutter, a programming language known for its ability to create visually appealing user interfaces. The poet compares Flutter to an artist with a vast palette, blending colors and casting shadows to craft interfaces that are both beautiful and innovative.\n",
      "\n",
      "The imagery of Flutter's syntax flowing like a gentle stream and logic woven seamlessly reflects the smooth and structured nature of the language. The comparison of code to brushstrokes that create beauty, both old and new, emphasizes the creative aspect of programming with Flutter.\n",
      "\n",
      "The poem also highlights how Flutter harmonizes elements in a design symphony, creating elegant and graceful user interfaces that come together like a ballet. The language is portrayed as a tool for creators to build worlds in a digital space, showcasing their artistry and skill.\n",
      "\n",
      "Ultimately, the poet invites readers to marvel at Flutter's artistry and the way it allows creators to soar high and paint masterpieces in the sky, symbolizing the limitless possibilities and creativity that the language offers."
     ]
    },
    {
     "data": {
      "text/plain": [
       "AIMessageChunk(content=\"This poem beautifully captures the essence of Flutter, a programming language known for its ability to create visually appealing user interfaces. The poet compares Flutter to an artist with a vast palette, blending colors and casting shadows to craft interfaces that are both beautiful and innovative.\\n\\nThe imagery of Flutter's syntax flowing like a gentle stream and logic woven seamlessly reflects the smooth and structured nature of the language. The comparison of code to brushstrokes that create beauty, both old and new, emphasizes the creative aspect of programming with Flutter.\\n\\nThe poem also highlights how Flutter harmonizes elements in a design symphony, creating elegant and graceful user interfaces that come together like a ballet. The language is portrayed as a tool for creators to build worlds in a digital space, showcasing their artistry and skill.\\n\\nUltimately, the poet invites readers to marvel at Flutter's artistry and the way it allows creators to soar high and paint masterpieces in the sky, symbolizing the limitless possibilities and creativity that the language offers.\")"
      ]
     },
     "execution_count": 4,
     "metadata": {},
     "output_type": "execute_result"
    }
   ],
   "source": [
    "interpreting_poet_prompt = ChatPromptTemplate.from_messages(\n",
    "    [\n",
    "        (\n",
    "            \"system\",\n",
    "            \"You are a poet specialized in interpreting and explaining traditional poems. You find creative ways to express the deeper meanings while maintaining the essence of the original work. You don't drastically alter the poem's structure. If you cannot interpret a specific part, simply say you don't know how to explain it.\",\n",
    "        ),\n",
    "        (\"human\", \"{poem}\"),\n",
    "    ]\n",
    ")\n",
    "\n",
    "\n",
    "interpreting_poet_chain = interpreting_poet_prompt | chat\n",
    "\n",
    "\n",
    "final_chain = {\"poem\": strange_poet_chain} | interpreting_poet_chain\n",
    "\n",
    "final_chain.invoke({\"language\": \"flutter\"})"
   ]
  }
 ],
 "metadata": {
  "kernelspec": {
   "display_name": "env",
   "language": "python",
   "name": "python3"
  },
  "language_info": {
   "codemirror_mode": {
    "name": "ipython",
    "version": 3
   },
   "file_extension": ".py",
   "mimetype": "text/x-python",
   "name": "python",
   "nbconvert_exporter": "python",
   "pygments_lexer": "ipython3",
   "version": "3.11.7"
  }
 },
 "nbformat": 4,
 "nbformat_minor": 2
}
