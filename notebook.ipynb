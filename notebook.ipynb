{
 "cells": [
  {
   "cell_type": "code",
   "execution_count": 2,
   "metadata": {},
   "outputs": [
    {
     "name": "stdout",
     "output_type": "stream",
     "text": [
      "\n",
      "        I know this:\n",
      "        Director: Rajkumar Hirani\n",
      "        Main Cast: Aamir Khan, R. Madhavan, Sharman Joshi\n",
      "        Budget: ₹55 crore\n",
      "        Box Office: ₹460 crore\n",
      "        Genre: Comedy, Drama\n",
      "        Synopsis: Two friends embark on a quest to find their long-lost college buddy, with the help of a free-spirited engineering student, and discover the meaning of true success.\n",
      "        "
     ]
    },
    {
     "data": {
      "text/plain": [
       "AIMessageChunk(content='\\n        I know this:\\n        Director: Rajkumar Hirani\\n        Main Cast: Aamir Khan, R. Madhavan, Sharman Joshi\\n        Budget: ₹55 crore\\n        Box Office: ₹460 crore\\n        Genre: Comedy, Drama\\n        Synopsis: Two friends embark on a quest to find their long-lost college buddy, with the help of a free-spirited engineering student, and discover the meaning of true success.\\n        ')"
      ]
     },
     "execution_count": 2,
     "metadata": {},
     "output_type": "execute_result"
    }
   ],
   "source": [
    "from langchain.chat_models import ChatOpenAI\n",
    "from langchain.prompts.few_shot import FewShotChatMessagePromptTemplate\n",
    "from langchain.callbacks import StreamingStdOutCallbackHandler\n",
    "from langchain.prompts import ChatMessagePromptTemplate, ChatPromptTemplate\n",
    "\n",
    "# 영화 이름을 가지고 감독, 주요 출연진, 예산, 흥행 수익, 영화의 장르, 간단한 시놉시스 등 영화에 대한 정보로 답장하는 체인을 만드세요.\n",
    "# LLM은 항상 동일한 형식을 사용하여 응답해야 하며, 이를 위해서는 원하는 출력의 예시를 LLM에 제공해야 합니다.\n",
    "# 예제를 제공하려면 FewShotPromptTemplate 또는 FewShotChatMessagePromptTemplate을 사용하세요.\n",
    "\n",
    "chat = ChatOpenAI(\n",
    "    temperature=0.1,\n",
    "    streaming=True,\n",
    "    callbacks=[\n",
    "        StreamingStdOutCallbackHandler(),\n",
    "    ],\n",
    ")\n",
    "\n",
    "\n",
    "examples = [\n",
    "\n",
    "    {\n",
    "        \"movie_name\": \"Inception\",\n",
    "        \"answer\": \"\"\"\n",
    "        Here is what I know:\n",
    "        Director: Christopher Nolan\n",
    "        Main Cast: Leonardo DiCaprio, Joseph Gordon-Levitt, Ellen Page\n",
    "        Budget: $160 million\n",
    "        Box Office: $829.9 million\n",
    "        Genre: Science Fiction, Thriller\n",
    "        Synopsis: A skilled thief, who enters the dreams of others to steal secrets, is tasked with planting an idea in someone's mind, a process known as inception.\n",
    "        \"\"\"\n",
    "    },\n",
    "    {\n",
    "        \"movie_name\": \"Parasite\",\n",
    "        \"answer\": \"\"\"\n",
    "        I know this:\n",
    "        Director: Bong Joon-ho\n",
    "        Main Cast: Song Kang-ho, Lee Sun-kyun, Cho Yeo-jeong\n",
    "        Budget: $11 million\n",
    "        Box Office: $263 million\n",
    "        Genre: Drama, Thriller\n",
    "        Synopsis: A poor family schemes to become employed by a wealthy family by infiltrating their household, leading to unforeseen consequences.\n",
    "        \"\"\"\n",
    "    },\n",
    "    {\n",
    "        \"movie_name\": \"The Godfather\",\n",
    "        \"answer\": \"\"\"\n",
    "        I know this:\n",
    "        Director: Francis Ford Coppola\n",
    "        Main Cast: Marlon Brando, Al Pacino, James Caan\n",
    "        Budget: $6 million\n",
    "        Box Office: $250-291 million\n",
    "        Genre: Crime, Drama\n",
    "        Synopsis: The aging patriarch of an organized crime dynasty transfers control of his clandestine empire to his reluctant son.\n",
    "        \"\"\"\n",
    "    },\n",
    "\n",
    "]\n",
    "\n",
    "\n",
    "example_prompt = ChatPromptTemplate.from_messages(\n",
    "    [\n",
    "        (\"human\", \"What do you know about {movie_name}?\"),\n",
    "        (\"ai\", \"{answer}\"),\n",
    "    ]\n",
    ")\n",
    "\n",
    "example_prompt = FewShotChatMessagePromptTemplate(\n",
    "    example_prompt=example_prompt,\n",
    "    examples=examples,\n",
    ")\n",
    "\n",
    "final_prompt = ChatPromptTemplate.from_messages(\n",
    "    [\n",
    "        (\"system\", \"You are a movie expert, you give short answers.\"),\n",
    "        example_prompt,\n",
    "        (\"human\", \"What do you know about {movie_name}?\"),\n",
    "    ]\n",
    ")\n",
    "\n",
    "chain = final_prompt | chat\n",
    "\n",
    "chain.invoke({\"movie_name\": \"3 idiots\"})\n",
    "\n"
   ]
  }
 ],
 "metadata": {
  "kernelspec": {
   "display_name": "env",
   "language": "python",
   "name": "python3"
  },
  "language_info": {
   "codemirror_mode": {
    "name": "ipython",
    "version": 3
   },
   "file_extension": ".py",
   "mimetype": "text/x-python",
   "name": "python",
   "nbconvert_exporter": "python",
   "pygments_lexer": "ipython3",
   "version": "3.11.7"
  }
 },
 "nbformat": 4,
 "nbformat_minor": 2
}
